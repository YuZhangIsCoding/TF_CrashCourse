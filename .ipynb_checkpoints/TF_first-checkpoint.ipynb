{
 "cells": [
  {
   "cell_type": "code",
   "execution_count": 1,
   "metadata": {},
   "outputs": [],
   "source": [
    "import warnings\n",
    "warnings.simplefilter(action='ignore', category=FutureWarning)\n",
    "import math\n",
    "from IPython import display\n",
    "from matplotlib import cm\n",
    "from matplotlib import gridspec\n",
    "from matplotlib import pyplot as plt\n",
    "import numpy as np\n",
    "import pandas as pd\n",
    "from sklearn import metrics\n",
    "import tensorflow as tf\n",
    "from tensorflow.python.data import Dataset\n",
    "import seaborn as sns\n",
    "sns.set_style('whitegrid')\n",
    "\n",
    "tf.logging.set_verbosity(tf.logging.ERROR)\n",
    "\n",
    "pd.set_option('display.max_row', 10)\n",
    "pd.set_option('display.float_format', '{:.1f}'.format)"
   ]
  },
  {
   "cell_type": "code",
   "execution_count": 6,
   "metadata": {},
   "outputs": [],
   "source": [
    "df = pd.read_csv(\"https://storage.googleapis.com/mledu-datasets/california_housing_train.csv\", sep=\",\")\n",
    "df = df.reindex(np.random.permutation(df.index))\n",
    "df[\"median_house_value\"] /= 1000.0"
   ]
  },
  {
   "cell_type": "code",
   "execution_count": 15,
   "metadata": {},
   "outputs": [],
   "source": [
    "## Select a feature and added as numeric column\n",
    "my_feature = df[['total_rooms']]\n",
    "feature_columns = [tf.feature_column.numeric_column('total_rooms')]\n",
    "targets = df['median_house_value']"
   ]
  },
  {
   "cell_type": "code",
   "execution_count": 21,
   "metadata": {},
   "outputs": [],
   "source": [
    "## Construct gradient descent\n",
    "my_optimizer = tf.train.GradientDescentOptimizer(learning_rate = 0.01)\n",
    "my_optimizer = tf.contrib.estimator.clip_gradients_by_norm(my_optimizer, 5)"
   ]
  },
  {
   "cell_type": "code",
   "execution_count": 23,
   "metadata": {},
   "outputs": [],
   "source": [
    "## Linear regression model\n",
    "linear_regressor = tf.estimator.LinearRegressor(feature_columns = feature_columns,\n",
    "                                               optimizer = my_optimizer)"
   ]
  },
  {
   "cell_type": "code",
   "execution_count": 98,
   "metadata": {},
   "outputs": [],
   "source": [
    "## define the input function\n",
    "def my_input_fn(features, targets = None, batch_size = 1, shuffle = True, num_epochs=None):\n",
    "    \"\"\"Trains a linear regression model of one feature.\n",
    "  \n",
    "    Args:\n",
    "      features: pandas DataFrame of features\n",
    "      targets: pandas DataFrame of targets\n",
    "      batch_size: Size of batches to be passed to the model\n",
    "      shuffle: True or False. Whether to shuffle the data.\n",
    "      num_epochs: Number of epochs for which data should be repeated. None = repeat indefinitely\n",
    "    Returns:\n",
    "      Tuple of (features, labels) for next data batch\n",
    "    \"\"\"\n",
    "    if targets is None:\n",
    "        targets = np.zeros(len(features))\n",
    "        \n",
    "    # Convert pandas data into a dict of np arrays.\n",
    "    features = {key:np.array(value) for key,value in dict(features).items()}                                           \n",
    " \n",
    "    # Construct a dataset, and configure batching/repeating\n",
    "    ds = Dataset.from_tensor_slices((features,targets)) # warning: 2GB limit\n",
    "    ds = ds.batch(batch_size).repeat(num_epochs)\n",
    "    \n",
    "    # Shuffle the data, if specified\n",
    "    if shuffle:\n",
    "      ds = ds.shuffle(buffer_size=10000)\n",
    "    \n",
    "    # Return the next batch of data\n",
    "    features, labels = ds.make_one_shot_iterator().get_next()\n",
    "    return features, labels"
   ]
  },
  {
   "cell_type": "code",
   "execution_count": 46,
   "metadata": {},
   "outputs": [
    {
     "data": {
      "text/plain": [
       "<tensorflow.python.estimator.canned.linear.LinearRegressor at 0x1c2a7efdd8>"
      ]
     },
     "execution_count": 46,
     "metadata": {},
     "output_type": "execute_result"
    }
   ],
   "source": [
    "## Train the model\n",
    "_ = linear_regressor.train(input_fn = lambda:my_input_fn(my_feature, targets),steps=100)"
   ]
  },
  {
   "cell_type": "code",
   "execution_count": 64,
   "metadata": {},
   "outputs": [],
   "source": [
    "## Evaluate the model\n",
    "## This generates a generator yields a dictionary with key of 'predictions' and value of a numpy array\n",
    "predictions = linear_regressor.predict(input_fn = lambda: my_input_fn(my_feature, targets, num_epochs = 1, shuffle = False))\n",
    "## Format the predictions as numpy array\n",
    "predictions = np.array([item['predictions'][0] for item in prediction])\n",
    "mean_squared_error = metrics.mean_squared_error(predictions, targets)\n",
    "root_mean_squared_error = math.sqrt(mean_squared_error)"
   ]
  },
  {
   "cell_type": "code",
   "execution_count": 68,
   "metadata": {},
   "outputs": [
    {
     "name": "stdout",
     "output_type": "stream",
     "text": [
      "Mean Squared Error (on training data): 57601.150\n",
      "Root Mean Squared Error (on training data): 240.002\n"
     ]
    }
   ],
   "source": [
    "print(\"Mean Squared Error (on training data): %0.3f\" % mean_squared_error)\n",
    "print(\"Root Mean Squared Error (on training data): %0.3f\" % root_mean_squared_error)"
   ]
  },
  {
   "cell_type": "code",
   "execution_count": 69,
   "metadata": {},
   "outputs": [
    {
     "name": "stdout",
     "output_type": "stream",
     "text": [
      "Min. Median House Value: 14.999\n",
      "Max. Median House Value: 500.001\n",
      "Difference between Min. and Max.: 485.002\n",
      "Root Mean Squared Error: 240.002\n"
     ]
    }
   ],
   "source": [
    "print (\"Min. Median House Value: %0.3f\" % df['median_house_value'].min())\n",
    "print (\"Max. Median House Value: %0.3f\" % df['median_house_value'].max())\n",
    "print (\"Difference between Min. and Max.: %0.3f\" % (df['median_house_value'].max()-df['median_house_value'].min()))\n",
    "print (\"Root Mean Squared Error: %0.3f\" % root_mean_squared_error)"
   ]
  },
  {
   "cell_type": "code",
   "execution_count": 75,
   "metadata": {},
   "outputs": [
    {
     "data": {
      "text/html": [
       "<div>\n",
       "<style scoped>\n",
       "    .dataframe tbody tr th:only-of-type {\n",
       "        vertical-align: middle;\n",
       "    }\n",
       "\n",
       "    .dataframe tbody tr th {\n",
       "        vertical-align: top;\n",
       "    }\n",
       "\n",
       "    .dataframe thead th {\n",
       "        text-align: right;\n",
       "    }\n",
       "</style>\n",
       "<table border=\"1\" class=\"dataframe\">\n",
       "  <thead>\n",
       "    <tr style=\"text-align: right;\">\n",
       "      <th></th>\n",
       "      <th>predictions</th>\n",
       "      <th>targets</th>\n",
       "    </tr>\n",
       "  </thead>\n",
       "  <tbody>\n",
       "    <tr>\n",
       "      <th>count</th>\n",
       "      <td>17000.0</td>\n",
       "      <td>17000.0</td>\n",
       "    </tr>\n",
       "    <tr>\n",
       "      <th>mean</th>\n",
       "      <td>264.4</td>\n",
       "      <td>207.3</td>\n",
       "    </tr>\n",
       "    <tr>\n",
       "      <th>std</th>\n",
       "      <td>218.0</td>\n",
       "      <td>116.0</td>\n",
       "    </tr>\n",
       "    <tr>\n",
       "      <th>min</th>\n",
       "      <td>0.2</td>\n",
       "      <td>15.0</td>\n",
       "    </tr>\n",
       "    <tr>\n",
       "      <th>25%</th>\n",
       "      <td>146.2</td>\n",
       "      <td>119.4</td>\n",
       "    </tr>\n",
       "    <tr>\n",
       "      <th>50%</th>\n",
       "      <td>212.7</td>\n",
       "      <td>180.4</td>\n",
       "    </tr>\n",
       "    <tr>\n",
       "      <th>75%</th>\n",
       "      <td>315.1</td>\n",
       "      <td>265.0</td>\n",
       "    </tr>\n",
       "    <tr>\n",
       "      <th>max</th>\n",
       "      <td>3793.6</td>\n",
       "      <td>500.0</td>\n",
       "    </tr>\n",
       "  </tbody>\n",
       "</table>\n",
       "</div>"
      ],
      "text/plain": [
       "       predictions  targets\n",
       "count      17000.0  17000.0\n",
       "mean         264.4    207.3\n",
       "std          218.0    116.0\n",
       "min            0.2     15.0\n",
       "25%          146.2    119.4\n",
       "50%          212.7    180.4\n",
       "75%          315.1    265.0\n",
       "max         3793.6    500.0"
      ]
     },
     "execution_count": 75,
     "metadata": {},
     "output_type": "execute_result"
    }
   ],
   "source": [
    "cal_df = pd.DataFrame()\n",
    "cal_df['predictions'] = predictions\n",
    "cal_df['targets'] = targets\n",
    "cal_df.describe()"
   ]
  },
  {
   "cell_type": "code",
   "execution_count": 77,
   "metadata": {},
   "outputs": [],
   "source": [
    "sample = df.sample(n = 300)"
   ]
  },
  {
   "cell_type": "code",
   "execution_count": 164,
   "metadata": {},
   "outputs": [
    {
     "data": {
      "text/plain": [
       "[<matplotlib.lines.Line2D at 0x1c2d8b61d0>]"
      ]
     },
     "execution_count": 164,
     "metadata": {},
     "output_type": "execute_result"
    },
    {
     "data": {
      "image/png": "[encoded data removed]",
      "text/plain": [
       "<matplotlib.figure.Figure at 0x1c2d8c9be0>"
      ]
     },
     "metadata": {},
     "output_type": "display_data"
    }
   ],
   "source": [
    "y_extents = np.array([0, sample['median_house_value'].max()])\n",
    "plt.scatter(sample['median_house_value'], sample['total_rooms'])\n",
    "weight = linear_regressor.get_variable_value('linear/linear_model/total_rooms/weights')[0]\n",
    "bias = linear_regressor.get_variable_value('linear/linear_model/bias_weights')\n",
    "x_extents = (y_extents - bias) / weight\n",
    "x_extents = np.maximum(np.minimum(x_extents, sample['total_rooms'].max()), sample['total_rooms'].min())\n",
    "y_extents = weight * x_extents + bias\n",
    "plt.plot(x_extents, y_extents, 'r')"
   ]
  },
  {
   "cell_type": "code",
   "execution_count": 105,
   "metadata": {},
   "outputs": [],
   "source": [
    "x_input = pd.DataFrame({'total_rooms': [sample['total_rooms'].min(), sample['total_rooms'].max()]})\n",
    "y_out = linear_regressor.predict(input_fn = lambda: my_input_fn(x_input, num_epochs = 1, shuffle = False))\n",
    "y_out = np.array([item['predictions'][0] for item in y_out])\n",
    "plt.plot(x_input, y_out, 'r')\n",
    "plt.scatter(sample['total_rooms'], sample['median_house_value'])"
   ]
  },
  {
   "cell_type": "code",
   "execution_count": 148,
   "metadata": {},
   "outputs": [],
   "source": [
    "## plot the predictions\n",
    "def plot_predicts(sample, estimator, feature_name, ax = None):\n",
    "    x_input = pd.DataFrame({feature_name: [sample[feature_name].min(), sample[feature_name].max()]})\n",
    "    y_out = estimator.predict(input_fn = lambda: my_input_fn(x_input, num_epochs = 1, shuffle = False))\n",
    "    y_out = np.array([item['predictions'][0] for item in y_out])\n",
    "    try:\n",
    "        ax.plot(x_input, y_out, label = 'Prediction')\n",
    "    except:\n",
    "        plt.plot(x_input, y_out, label = 'Prediction')\n",
    "    return y_out"
   ]
  },
  {
   "cell_type": "code",
   "execution_count": 149,
   "metadata": {},
   "outputs": [],
   "source": [
    "## Put the previous code into one function\n",
    "def train_linear_reg(df, learning_rate, steps, feature_name = 'total_rooms', chunk = 10, batch_size = 1):\n",
    "    target_name = 'median_house_value'\n",
    "    targets = df[target_name]\n",
    "    features = df[[feature_name]]\n",
    "    feature_columns = [tf.feature_column.numeric_column(feature_name)]\n",
    "    my_optimizer = tf.train.GradientDescentOptimizer(learning_rate = learning_rate)\n",
    "    my_optimizer = tf.contrib.estimator.clip_gradients_by_norm(my_optimizer, 5)\n",
    "    linear_regressor = tf.estimator.LinearRegressor(feature_columns = feature_columns, optimizer = my_optimizer)\n",
    "    step_size = steps//chunk\n",
    "    rmse = []\n",
    "    sample = df.sample(n = 300)\n",
    "    training_fn = lambda: my_input_fn(features, targets, batch_size = batch_size)\n",
    "    predict_fn = lambda: my_input_fn(features, num_epochs = 1, shuffle = False)\n",
    "    print('Training linear regressor')\n",
    "    print('The RMSE are ...')\n",
    "    fig, axes = plt.subplots(1, 2)\n",
    "    axes[0].scatter(sample[feature_name], sample[target_name])\n",
    "    for i in range(chunk):\n",
    "        linear_regressor.train(input_fn = training_fn, steps = step_size)\n",
    "        predictions = linear_regressor.predict(input_fn = predict_fn)\n",
    "        predictions = np.array([item['predictions'][0] for item in predictions])\n",
    "        mse = metrics.mean_squared_error(predictions, targets)\n",
    "        rmse.append(math.sqrt(mse))\n",
    "        print('Chunk %d: %.2f' %(i, rmse[-1]))\n",
    "        plot_predicts(sample, linear_regressor, feature_name, axes[0])\n",
    "    axes[0].set_ylabel(target_name)\n",
    "    axes[0].set_xlabel(feature_name)\n",
    "    axes[1].plot(rmse)\n",
    "    axes[1].set_ylabel('RMSE')\n",
    "    axes[1].set_xlabel('Chunk')"
   ]
  },
  {
   "cell_type": "code",
   "execution_count": 137,
   "metadata": {},
   "outputs": [
    {
     "name": "stdout",
     "output_type": "stream",
     "text": [
      "Training linear regressor\n",
      "The RMSE are ...\n",
      "Chunk 0: 225.63\n",
      "Chunk 1: 214.42\n",
      "Chunk 2: 204.04\n",
      "Chunk 3: 194.97\n",
      "Chunk 4: 186.92\n",
      "Chunk 5: 180.53\n",
      "Chunk 6: 174.79\n",
      "Chunk 7: 170.76\n",
      "Chunk 8: 168.08\n",
      "Chunk 9: 167.15\n"
     ]
    },
    {
     "data": {
      "image/png": "[encoded data removed]",
      "text/plain": [
       "<matplotlib.figure.Figure at 0x1c2c7264a8>"
      ]
     },
     "metadata": {},
     "output_type": "display_data"
    }
   ],
   "source": [
    "train_linear_reg(df, learning_rate = 0.00002, steps = 500, batch_size = 5)"
   ]
  },
  {
   "cell_type": "code",
   "execution_count": 147,
   "metadata": {},
   "outputs": [
    {
     "name": "stdout",
     "output_type": "stream",
     "text": [
      "Training linear regressor\n",
      "The RMSE are ...\n",
      "Chunk 0: 225.63\n",
      "Chunk 1: 214.62\n",
      "Chunk 2: 204.67\n",
      "Chunk 3: 196.26\n",
      "Chunk 4: 189.12\n",
      "Chunk 5: 183.49\n",
      "Chunk 6: 180.04\n",
      "Chunk 7: 177.92\n",
      "Chunk 8: 176.57\n",
      "Chunk 9: 175.98\n"
     ]
    },
    {
     "data": {
      "image/png": "[encoded data removed]",
      "text/plain": [
       "<matplotlib.figure.Figure at 0x1c2d813ba8>"
      ]
     },
     "metadata": {},
     "output_type": "display_data"
    }
   ],
   "source": [
    "## Try a different feature name\n",
    "train_linear_reg(df, learning_rate = 0.00002, steps = 1000, batch_size = 5, feature_name = 'population')"
   ]
  }
 ],
 "metadata": {
  "kernelspec": {
   "display_name": "Python 3",
   "language": "python",
   "name": "python3"
  },
  "language_info": {
   "codemirror_mode": {
    "name": "ipython",
    "version": 3
   },
   "file_extension": ".py",
   "mimetype": "text/x-python",
   "name": "python",
   "nbconvert_exporter": "python",
   "pygments_lexer": "ipython3",
   "version": "3.6.4"
  }
 },
 "nbformat": 4,
 "nbformat_minor": 2
}
