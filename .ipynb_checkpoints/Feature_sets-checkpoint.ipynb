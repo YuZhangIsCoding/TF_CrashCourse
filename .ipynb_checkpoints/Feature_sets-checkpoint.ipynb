{
 "cells": [
  {
   "cell_type": "code",
   "execution_count": 1,
   "metadata": {},
   "outputs": [],
   "source": [
    "import warnings\n",
    "warnings.simplefilter(action='ignore', category=FutureWarning)\n",
    "import math\n",
    "from IPython import display\n",
    "from matplotlib import cm\n",
    "from matplotlib import gridspec\n",
    "from matplotlib import pyplot as plt\n",
    "import numpy as np\n",
    "import pandas as pd\n",
    "from sklearn import metrics\n",
    "import tensorflow as tf\n",
    "from tensorflow.python.data import Dataset\n",
    "import seaborn as sns\n",
    "sns.set_style('darkgrid')\n",
    "\n",
    "tf.logging.set_verbosity(tf.logging.ERROR)\n",
    "\n",
    "pd.set_option('display.max_row', 10)\n",
    "pd.set_option('display.float_format', '{:.1f}'.format)"
   ]
  },
  {
   "cell_type": "code",
   "execution_count": 2,
   "metadata": {},
   "outputs": [],
   "source": [
    "def preprocess(df):\n",
    "    processed_features = df[df.columns[df.columns != 'median_house_value']]\n",
    "    processed_features['rooms_per_person'] = processed_features['total_bedrooms']/processed_features['population']\n",
    "    return processed_features, df[['median_house_value']]/1000"
   ]
  },
  {
   "cell_type": "code",
   "execution_count": 3,
   "metadata": {},
   "outputs": [],
   "source": [
    "# plot latitude and logitude, and show the median house value with different colors\n",
    "def plot_loc(training_examples, training_targets, validation_examples, validation_targets):\n",
    "    fig, axes = plt.subplots(1, 2, figsize = (10, 5), dpi = 300, sharex = True, sharey = True)\n",
    "    axes[0].scatter(training_examples['longitude'], training_examples['latitude'], \n",
    "                c = training_targets['median_house_value'], cmap = 'coolwarm')\n",
    "    axes[1].scatter(validation_examples['longitude'], validation_examples['latitude'], c = validation_targets['median_house_value'], cmap = 'coolwarm')\n",
    "    axes[1].set_xlim([-126, -112])\n",
    "    axes[1].set_ylim([32, 43])\n",
    "    axes[0].set_title('Training')\n",
    "    axes[1].set_title('Validation')\n",
    "    axes[0].set_xlabel('Longitude')\n",
    "    axes[1].set_xlabel('Longitude')\n",
    "    axes[0].set_ylabel('Latitude')\n",
    "    plt.tight_layout()\n"
   ]
  },
  {
   "cell_type": "code",
   "execution_count": 6,
   "metadata": {},
   "outputs": [
    {
     "name": "stdout",
     "output_type": "stream",
     "text": [
      "training examples summary:\n"
     ]
    },
    {
     "data": {
      "text/html": [
       "<div>\n",
       "<style scoped>\n",
       "    .dataframe tbody tr th:only-of-type {\n",
       "        vertical-align: middle;\n",
       "    }\n",
       "\n",
       "    .dataframe tbody tr th {\n",
       "        vertical-align: top;\n",
       "    }\n",
       "\n",
       "    .dataframe thead th {\n",
       "        text-align: right;\n",
       "    }\n",
       "</style>\n",
       "<table border=\"1\" class=\"dataframe\">\n",
       "  <thead>\n",
       "    <tr style=\"text-align: right;\">\n",
       "      <th></th>\n",
       "      <th>longitude</th>\n",
       "      <th>latitude</th>\n",
       "      <th>housing_median_age</th>\n",
       "      <th>total_rooms</th>\n",
       "      <th>total_bedrooms</th>\n",
       "      <th>population</th>\n",
       "      <th>households</th>\n",
       "      <th>median_income</th>\n",
       "      <th>rooms_per_person</th>\n",
       "    </tr>\n",
       "  </thead>\n",
       "  <tbody>\n",
       "    <tr>\n",
       "      <th>count</th>\n",
       "      <td>12000.0</td>\n",
       "      <td>12000.0</td>\n",
       "      <td>12000.0</td>\n",
       "      <td>12000.0</td>\n",
       "      <td>12000.0</td>\n",
       "      <td>12000.0</td>\n",
       "      <td>12000.0</td>\n",
       "      <td>12000.0</td>\n",
       "      <td>12000.0</td>\n",
       "    </tr>\n",
       "    <tr>\n",
       "      <th>mean</th>\n",
       "      <td>-119.6</td>\n",
       "      <td>35.6</td>\n",
       "      <td>28.6</td>\n",
       "      <td>2636.6</td>\n",
       "      <td>537.3</td>\n",
       "      <td>1421.5</td>\n",
       "      <td>499.2</td>\n",
       "      <td>3.9</td>\n",
       "      <td>0.4</td>\n",
       "    </tr>\n",
       "    <tr>\n",
       "      <th>std</th>\n",
       "      <td>2.0</td>\n",
       "      <td>2.1</td>\n",
       "      <td>12.6</td>\n",
       "      <td>2171.3</td>\n",
       "      <td>419.8</td>\n",
       "      <td>1155.5</td>\n",
       "      <td>382.5</td>\n",
       "      <td>1.9</td>\n",
       "      <td>0.3</td>\n",
       "    </tr>\n",
       "    <tr>\n",
       "      <th>min</th>\n",
       "      <td>-124.3</td>\n",
       "      <td>32.5</td>\n",
       "      <td>1.0</td>\n",
       "      <td>8.0</td>\n",
       "      <td>1.0</td>\n",
       "      <td>3.0</td>\n",
       "      <td>1.0</td>\n",
       "      <td>0.5</td>\n",
       "      <td>0.0</td>\n",
       "    </tr>\n",
       "    <tr>\n",
       "      <th>25%</th>\n",
       "      <td>-121.8</td>\n",
       "      <td>33.9</td>\n",
       "      <td>18.0</td>\n",
       "      <td>1453.0</td>\n",
       "      <td>296.0</td>\n",
       "      <td>792.0</td>\n",
       "      <td>281.0</td>\n",
       "      <td>2.6</td>\n",
       "      <td>0.3</td>\n",
       "    </tr>\n",
       "    <tr>\n",
       "      <th>50%</th>\n",
       "      <td>-118.5</td>\n",
       "      <td>34.2</td>\n",
       "      <td>29.0</td>\n",
       "      <td>2121.5</td>\n",
       "      <td>433.0</td>\n",
       "      <td>1165.0</td>\n",
       "      <td>408.0</td>\n",
       "      <td>3.5</td>\n",
       "      <td>0.4</td>\n",
       "    </tr>\n",
       "    <tr>\n",
       "      <th>75%</th>\n",
       "      <td>-118.0</td>\n",
       "      <td>37.7</td>\n",
       "      <td>37.0</td>\n",
       "      <td>3148.0</td>\n",
       "      <td>647.0</td>\n",
       "      <td>1707.0</td>\n",
       "      <td>602.2</td>\n",
       "      <td>4.7</td>\n",
       "      <td>0.4</td>\n",
       "    </tr>\n",
       "    <tr>\n",
       "      <th>max</th>\n",
       "      <td>-114.3</td>\n",
       "      <td>42.0</td>\n",
       "      <td>52.0</td>\n",
       "      <td>37937.0</td>\n",
       "      <td>6445.0</td>\n",
       "      <td>35682.0</td>\n",
       "      <td>6082.0</td>\n",
       "      <td>15.0</td>\n",
       "      <td>14.2</td>\n",
       "    </tr>\n",
       "  </tbody>\n",
       "</table>\n",
       "</div>"
      ],
      "text/plain": [
       "       longitude  latitude  housing_median_age  total_rooms  total_bedrooms  \\\n",
       "count    12000.0   12000.0             12000.0      12000.0         12000.0   \n",
       "mean      -119.6      35.6                28.6       2636.6           537.3   \n",
       "std          2.0       2.1                12.6       2171.3           419.8   \n",
       "min       -124.3      32.5                 1.0          8.0             1.0   \n",
       "25%       -121.8      33.9                18.0       1453.0           296.0   \n",
       "50%       -118.5      34.2                29.0       2121.5           433.0   \n",
       "75%       -118.0      37.7                37.0       3148.0           647.0   \n",
       "max       -114.3      42.0                52.0      37937.0          6445.0   \n",
       "\n",
       "       population  households  median_income  rooms_per_person  \n",
       "count     12000.0     12000.0        12000.0           12000.0  \n",
       "mean       1421.5       499.2            3.9               0.4  \n",
       "std        1155.5       382.5            1.9               0.3  \n",
       "min           3.0         1.0            0.5               0.0  \n",
       "25%         792.0       281.0            2.6               0.3  \n",
       "50%        1165.0       408.0            3.5               0.4  \n",
       "75%        1707.0       602.2            4.7               0.4  \n",
       "max       35682.0      6082.0           15.0              14.2  "
      ]
     },
     "metadata": {},
     "output_type": "display_data"
    },
    {
     "name": "stdout",
     "output_type": "stream",
     "text": [
      "validation examples summary:\n"
     ]
    },
    {
     "data": {
      "text/html": [
       "<div>\n",
       "<style scoped>\n",
       "    .dataframe tbody tr th:only-of-type {\n",
       "        vertical-align: middle;\n",
       "    }\n",
       "\n",
       "    .dataframe tbody tr th {\n",
       "        vertical-align: top;\n",
       "    }\n",
       "\n",
       "    .dataframe thead th {\n",
       "        text-align: right;\n",
       "    }\n",
       "</style>\n",
       "<table border=\"1\" class=\"dataframe\">\n",
       "  <thead>\n",
       "    <tr style=\"text-align: right;\">\n",
       "      <th></th>\n",
       "      <th>longitude</th>\n",
       "      <th>latitude</th>\n",
       "      <th>housing_median_age</th>\n",
       "      <th>total_rooms</th>\n",
       "      <th>total_bedrooms</th>\n",
       "      <th>population</th>\n",
       "      <th>households</th>\n",
       "      <th>median_income</th>\n",
       "      <th>rooms_per_person</th>\n",
       "    </tr>\n",
       "  </thead>\n",
       "  <tbody>\n",
       "    <tr>\n",
       "      <th>count</th>\n",
       "      <td>5000.0</td>\n",
       "      <td>5000.0</td>\n",
       "      <td>5000.0</td>\n",
       "      <td>5000.0</td>\n",
       "      <td>5000.0</td>\n",
       "      <td>5000.0</td>\n",
       "      <td>5000.0</td>\n",
       "      <td>5000.0</td>\n",
       "      <td>5000.0</td>\n",
       "    </tr>\n",
       "    <tr>\n",
       "      <th>mean</th>\n",
       "      <td>-119.6</td>\n",
       "      <td>35.6</td>\n",
       "      <td>28.7</td>\n",
       "      <td>2660.5</td>\n",
       "      <td>544.4</td>\n",
       "      <td>1449.0</td>\n",
       "      <td>506.1</td>\n",
       "      <td>3.9</td>\n",
       "      <td>0.4</td>\n",
       "    </tr>\n",
       "    <tr>\n",
       "      <th>std</th>\n",
       "      <td>2.0</td>\n",
       "      <td>2.1</td>\n",
       "      <td>12.5</td>\n",
       "      <td>2200.8</td>\n",
       "      <td>425.5</td>\n",
       "      <td>1129.1</td>\n",
       "      <td>389.2</td>\n",
       "      <td>1.9</td>\n",
       "      <td>0.2</td>\n",
       "    </tr>\n",
       "    <tr>\n",
       "      <th>min</th>\n",
       "      <td>-124.3</td>\n",
       "      <td>32.5</td>\n",
       "      <td>2.0</td>\n",
       "      <td>2.0</td>\n",
       "      <td>2.0</td>\n",
       "      <td>6.0</td>\n",
       "      <td>2.0</td>\n",
       "      <td>0.5</td>\n",
       "      <td>0.0</td>\n",
       "    </tr>\n",
       "    <tr>\n",
       "      <th>25%</th>\n",
       "      <td>-121.8</td>\n",
       "      <td>33.9</td>\n",
       "      <td>18.0</td>\n",
       "      <td>1475.8</td>\n",
       "      <td>299.0</td>\n",
       "      <td>785.8</td>\n",
       "      <td>282.0</td>\n",
       "      <td>2.6</td>\n",
       "      <td>0.3</td>\n",
       "    </tr>\n",
       "    <tr>\n",
       "      <th>50%</th>\n",
       "      <td>-118.5</td>\n",
       "      <td>34.2</td>\n",
       "      <td>29.0</td>\n",
       "      <td>2151.0</td>\n",
       "      <td>435.0</td>\n",
       "      <td>1173.5</td>\n",
       "      <td>411.0</td>\n",
       "      <td>3.6</td>\n",
       "      <td>0.4</td>\n",
       "    </tr>\n",
       "    <tr>\n",
       "      <th>75%</th>\n",
       "      <td>-118.0</td>\n",
       "      <td>37.7</td>\n",
       "      <td>37.0</td>\n",
       "      <td>3156.2</td>\n",
       "      <td>652.0</td>\n",
       "      <td>1757.0</td>\n",
       "      <td>610.0</td>\n",
       "      <td>4.8</td>\n",
       "      <td>0.4</td>\n",
       "    </tr>\n",
       "    <tr>\n",
       "      <th>max</th>\n",
       "      <td>-114.6</td>\n",
       "      <td>42.0</td>\n",
       "      <td>52.0</td>\n",
       "      <td>32054.0</td>\n",
       "      <td>5290.0</td>\n",
       "      <td>15507.0</td>\n",
       "      <td>5050.0</td>\n",
       "      <td>15.0</td>\n",
       "      <td>4.9</td>\n",
       "    </tr>\n",
       "  </tbody>\n",
       "</table>\n",
       "</div>"
      ],
      "text/plain": [
       "       longitude  latitude  housing_median_age  total_rooms  total_bedrooms  \\\n",
       "count     5000.0    5000.0              5000.0       5000.0          5000.0   \n",
       "mean      -119.6      35.6                28.7       2660.5           544.4   \n",
       "std          2.0       2.1                12.5       2200.8           425.5   \n",
       "min       -124.3      32.5                 2.0          2.0             2.0   \n",
       "25%       -121.8      33.9                18.0       1475.8           299.0   \n",
       "50%       -118.5      34.2                29.0       2151.0           435.0   \n",
       "75%       -118.0      37.7                37.0       3156.2           652.0   \n",
       "max       -114.6      42.0                52.0      32054.0          5290.0   \n",
       "\n",
       "       population  households  median_income  rooms_per_person  \n",
       "count      5000.0      5000.0         5000.0            5000.0  \n",
       "mean       1449.0       506.1            3.9               0.4  \n",
       "std        1129.1       389.2            1.9               0.2  \n",
       "min           6.0         2.0            0.5               0.0  \n",
       "25%         785.8       282.0            2.6               0.3  \n",
       "50%        1173.5       411.0            3.6               0.4  \n",
       "75%        1757.0       610.0            4.8               0.4  \n",
       "max       15507.0      5050.0           15.0               4.9  "
      ]
     },
     "metadata": {},
     "output_type": "display_data"
    }
   ],
   "source": [
    "df = pd.read_csv(\"https://storage.googleapis.com/mledu-datasets/california_housing_train.csv\", sep=\",\")\n",
    "# randomly select training and validation examples\n",
    "df = df.reindex(np.random.permutation(df.index))\n",
    "training_examples, training_targets = preprocess(df.head(12000))\n",
    "validation_examples, validation_targets = preprocess(df.tail(5000))\n",
    "print('training examples summary:')\n",
    "display.display(training_examples.describe())\n",
    "print('validation examples summary:')\n",
    "display.display(validation_examples.describe())"
   ]
  },
  {
   "cell_type": "markdown",
   "metadata": {},
   "source": [
    "[Pearson correlation coefficients](https://en.wikipedia.org/wiki/Pearson_correlation_coefficient) can be used to indication the linear correlation between target and feature and between one feature and another"
   ]
  },
  {
   "cell_type": "code",
   "execution_count": 7,
   "metadata": {},
   "outputs": [
    {
     "data": {
      "text/html": [
       "<div>\n",
       "<style scoped>\n",
       "    .dataframe tbody tr th:only-of-type {\n",
       "        vertical-align: middle;\n",
       "    }\n",
       "\n",
       "    .dataframe tbody tr th {\n",
       "        vertical-align: top;\n",
       "    }\n",
       "\n",
       "    .dataframe thead th {\n",
       "        text-align: right;\n",
       "    }\n",
       "</style>\n",
       "<table border=\"1\" class=\"dataframe\">\n",
       "  <thead>\n",
       "    <tr style=\"text-align: right;\">\n",
       "      <th></th>\n",
       "      <th>longitude</th>\n",
       "      <th>latitude</th>\n",
       "      <th>housing_median_age</th>\n",
       "      <th>total_rooms</th>\n",
       "      <th>total_bedrooms</th>\n",
       "      <th>population</th>\n",
       "      <th>households</th>\n",
       "      <th>median_income</th>\n",
       "      <th>rooms_per_person</th>\n",
       "      <th>target</th>\n",
       "    </tr>\n",
       "  </thead>\n",
       "  <tbody>\n",
       "    <tr>\n",
       "      <th>longitude</th>\n",
       "      <td>1.0</td>\n",
       "      <td>-0.9</td>\n",
       "      <td>-0.1</td>\n",
       "      <td>0.0</td>\n",
       "      <td>0.1</td>\n",
       "      <td>0.1</td>\n",
       "      <td>0.1</td>\n",
       "      <td>-0.0</td>\n",
       "      <td>-0.1</td>\n",
       "      <td>-0.0</td>\n",
       "    </tr>\n",
       "    <tr>\n",
       "      <th>latitude</th>\n",
       "      <td>-0.9</td>\n",
       "      <td>1.0</td>\n",
       "      <td>0.0</td>\n",
       "      <td>-0.0</td>\n",
       "      <td>-0.1</td>\n",
       "      <td>-0.1</td>\n",
       "      <td>-0.1</td>\n",
       "      <td>-0.1</td>\n",
       "      <td>0.1</td>\n",
       "      <td>-0.2</td>\n",
       "    </tr>\n",
       "    <tr>\n",
       "      <th>housing_median_age</th>\n",
       "      <td>-0.1</td>\n",
       "      <td>0.0</td>\n",
       "      <td>1.0</td>\n",
       "      <td>-0.4</td>\n",
       "      <td>-0.3</td>\n",
       "      <td>-0.3</td>\n",
       "      <td>-0.3</td>\n",
       "      <td>-0.1</td>\n",
       "      <td>-0.1</td>\n",
       "      <td>0.1</td>\n",
       "    </tr>\n",
       "    <tr>\n",
       "      <th>total_rooms</th>\n",
       "      <td>0.0</td>\n",
       "      <td>-0.0</td>\n",
       "      <td>-0.4</td>\n",
       "      <td>1.0</td>\n",
       "      <td>0.9</td>\n",
       "      <td>0.9</td>\n",
       "      <td>0.9</td>\n",
       "      <td>0.2</td>\n",
       "      <td>0.0</td>\n",
       "      <td>0.1</td>\n",
       "    </tr>\n",
       "    <tr>\n",
       "      <th>total_bedrooms</th>\n",
       "      <td>0.1</td>\n",
       "      <td>-0.1</td>\n",
       "      <td>-0.3</td>\n",
       "      <td>0.9</td>\n",
       "      <td>1.0</td>\n",
       "      <td>0.9</td>\n",
       "      <td>1.0</td>\n",
       "      <td>-0.0</td>\n",
       "      <td>0.1</td>\n",
       "      <td>0.0</td>\n",
       "    </tr>\n",
       "    <tr>\n",
       "      <th>population</th>\n",
       "      <td>0.1</td>\n",
       "      <td>-0.1</td>\n",
       "      <td>-0.3</td>\n",
       "      <td>0.9</td>\n",
       "      <td>0.9</td>\n",
       "      <td>1.0</td>\n",
       "      <td>0.9</td>\n",
       "      <td>0.0</td>\n",
       "      <td>-0.1</td>\n",
       "      <td>-0.0</td>\n",
       "    </tr>\n",
       "    <tr>\n",
       "      <th>households</th>\n",
       "      <td>0.1</td>\n",
       "      <td>-0.1</td>\n",
       "      <td>-0.3</td>\n",
       "      <td>0.9</td>\n",
       "      <td>1.0</td>\n",
       "      <td>0.9</td>\n",
       "      <td>1.0</td>\n",
       "      <td>0.0</td>\n",
       "      <td>-0.0</td>\n",
       "      <td>0.1</td>\n",
       "    </tr>\n",
       "    <tr>\n",
       "      <th>median_income</th>\n",
       "      <td>-0.0</td>\n",
       "      <td>-0.1</td>\n",
       "      <td>-0.1</td>\n",
       "      <td>0.2</td>\n",
       "      <td>-0.0</td>\n",
       "      <td>0.0</td>\n",
       "      <td>0.0</td>\n",
       "      <td>1.0</td>\n",
       "      <td>-0.1</td>\n",
       "      <td>0.7</td>\n",
       "    </tr>\n",
       "    <tr>\n",
       "      <th>rooms_per_person</th>\n",
       "      <td>-0.1</td>\n",
       "      <td>0.1</td>\n",
       "      <td>-0.1</td>\n",
       "      <td>0.0</td>\n",
       "      <td>0.1</td>\n",
       "      <td>-0.1</td>\n",
       "      <td>-0.0</td>\n",
       "      <td>-0.1</td>\n",
       "      <td>1.0</td>\n",
       "      <td>0.1</td>\n",
       "    </tr>\n",
       "    <tr>\n",
       "      <th>target</th>\n",
       "      <td>-0.0</td>\n",
       "      <td>-0.2</td>\n",
       "      <td>0.1</td>\n",
       "      <td>0.1</td>\n",
       "      <td>0.0</td>\n",
       "      <td>-0.0</td>\n",
       "      <td>0.1</td>\n",
       "      <td>0.7</td>\n",
       "      <td>0.1</td>\n",
       "      <td>1.0</td>\n",
       "    </tr>\n",
       "  </tbody>\n",
       "</table>\n",
       "</div>"
      ],
      "text/plain": [
       "                    longitude  latitude  housing_median_age  total_rooms  \\\n",
       "longitude                 1.0      -0.9                -0.1          0.0   \n",
       "latitude                 -0.9       1.0                 0.0         -0.0   \n",
       "housing_median_age       -0.1       0.0                 1.0         -0.4   \n",
       "total_rooms               0.0      -0.0                -0.4          1.0   \n",
       "total_bedrooms            0.1      -0.1                -0.3          0.9   \n",
       "population                0.1      -0.1                -0.3          0.9   \n",
       "households                0.1      -0.1                -0.3          0.9   \n",
       "median_income            -0.0      -0.1                -0.1          0.2   \n",
       "rooms_per_person         -0.1       0.1                -0.1          0.0   \n",
       "target                   -0.0      -0.2                 0.1          0.1   \n",
       "\n",
       "                    total_bedrooms  population  households  median_income  \\\n",
       "longitude                      0.1         0.1         0.1           -0.0   \n",
       "latitude                      -0.1        -0.1        -0.1           -0.1   \n",
       "housing_median_age            -0.3        -0.3        -0.3           -0.1   \n",
       "total_rooms                    0.9         0.9         0.9            0.2   \n",
       "total_bedrooms                 1.0         0.9         1.0           -0.0   \n",
       "population                     0.9         1.0         0.9            0.0   \n",
       "households                     1.0         0.9         1.0            0.0   \n",
       "median_income                 -0.0         0.0         0.0            1.0   \n",
       "rooms_per_person               0.1        -0.1        -0.0           -0.1   \n",
       "target                         0.0        -0.0         0.1            0.7   \n",
       "\n",
       "                    rooms_per_person  target  \n",
       "longitude                       -0.1    -0.0  \n",
       "latitude                         0.1    -0.2  \n",
       "housing_median_age              -0.1     0.1  \n",
       "total_rooms                      0.0     0.1  \n",
       "total_bedrooms                   0.1     0.0  \n",
       "population                      -0.1    -0.0  \n",
       "households                      -0.0     0.1  \n",
       "median_income                   -0.1     0.7  \n",
       "rooms_per_person                 1.0     0.1  \n",
       "target                           0.1     1.0  "
      ]
     },
     "execution_count": 7,
     "metadata": {},
     "output_type": "execute_result"
    }
   ],
   "source": [
    "correlation_data = training_examples.copy()\n",
    "correlation_data['target'] = training_targets['median_house_value']\n",
    "correlation_data.corr()"
   ]
  },
  {
   "cell_type": "code",
   "execution_count": 22,
   "metadata": {},
   "outputs": [
    {
     "data": {
      "text/plain": [
       "<matplotlib.colorbar.Colorbar at 0x10aeef630>"
      ]
     },
     "execution_count": 22,
     "metadata": {},
     "output_type": "execute_result"
    },
    {
     "data": {
      "image/png": "[encoded data removed]",
      "text/plain": [
       "<matplotlib.figure.Figure at 0x10ebc0278>"
      ]
     },
     "metadata": {},
     "output_type": "display_data"
    }
   ],
   "source": [
    "# visualize the correlation matrix with a heat map\n",
    "fig = plt.figure(figsize = (5, 5), dpi = 100)\n",
    "plt.imshow(correlation_data.corr(), interpolation='nearest', cmap = cm.jet)\n",
    "plt.xticks(range(len(correlation_data.columns)))\n",
    "plt.gca().set_xticklabels(correlation_data.columns, rotation='vertical')\n",
    "plt.yticks(range(len(correlation_data.columns)))\n",
    "plt.gca().set_yticklabels(correlation_data.columns)\n",
    "plt.colorbar()"
   ]
  },
  {
   "cell_type": "code",
   "execution_count": 24,
   "metadata": {},
   "outputs": [],
   "source": [
    "def construct_feature_columns(input_features):\n",
    "    return set([tf.feature_column.numeric_column(my_feature) for my_feature in input_features])"
   ]
  },
  {
   "cell_type": "code",
   "execution_count": 25,
   "metadata": {},
   "outputs": [],
   "source": [
    "def my_input_fn(features, targets = None, batch_size = 1, num_epochs = None, shuffle = True):\n",
    "    if targets is None:\n",
    "        targets = np.zeros(len(features))\n",
    "    features = {key: np.array(value) for key, value in dict(features).items()}\n",
    "    ds = Dataset.from_tensor_slices((features, targets))\n",
    "    ds = ds.batch(batch_size).repeat(num_epochs)\n",
    "    if shuffle:\n",
    "        ds = ds.shuffle(10000)\n",
    "    features, labels = ds.make_one_shot_iterator().get_next()\n",
    "    return features, labels"
   ]
  },
  {
   "cell_type": "code",
   "execution_count": 26,
   "metadata": {},
   "outputs": [],
   "source": [
    "def train_model(learning_rate, steps, batch_size, ts, tt, vs, vt, periods = 10):\n",
    "    '''\n",
    "    ts is the training set\n",
    "    tt is the training targets\n",
    "    vs is the validation set\n",
    "    vt is the validation targets\n",
    "    '''\n",
    "    training_fn = lambda: my_input_fn(ts, tt, batch_size = batch_size)\n",
    "    predict_fn = lambda: my_input_fn(ts, tt, num_epochs = 1, shuffle = False)\n",
    "    validation_fn = lambda: my_input_fn(vs, vt, num_epochs = 1, shuffle = False)\n",
    "    my_optimizer = tf.train.GradientDescentOptimizer(learning_rate = learning_rate)\n",
    "    my_optimizer = tf.contrib.estimator.clip_gradients_by_norm(my_optimizer, 5)\n",
    "    feature_columns = construct_feature_columns(ts)\n",
    "    linear_regressor = tf.estimator.LinearRegressor(feature_columns = feature_columns, optimizer = my_optimizer)\n",
    "    step_size = steps//periods\n",
    "    training_rmse = []\n",
    "    validation_rmse = []\n",
    "    print('Training linear regressor\\nRMSE are:')\n",
    "    for i in range(periods):\n",
    "        linear_regressor.train(input_fn = training_fn, steps = step_size)\n",
    "        t_pre = linear_regressor.predict(input_fn = predict_fn)\n",
    "        t_pre = np.array([item['predictions'][0] for item in t_pre])\n",
    "        v_pre = linear_regressor.predict(input_fn = validation_fn)\n",
    "        v_pre = np.array([item['predictions'][0] for item in v_pre])\n",
    "        training_rmse.append(math.sqrt(metrics.mean_squared_error(t_pre, tt)))\n",
    "        validation_rmse.append(math.sqrt(metrics.mean_squared_error(v_pre, vt)))\n",
    "        print('Preriods %d: training rmse ->%.2f, validation error -> %.2f ' %(i, training_rmse[-1], validation_rmse[-1]))\n",
    "    plt.plot(training_rmse, label = 'training')\n",
    "    plt.plot(validation_rmse, label = 'validation')\n",
    "    plt.xlabel('Periods')\n",
    "    plt.ylabel('RMSE')\n",
    "    plt.legend()\n",
    "    return linear_regressor"
   ]
  },
  {
   "cell_type": "markdown",
   "metadata": {},
   "source": [
    "Instead of using all of the features, we just select the features that seems to be relevant to the house price"
   ]
  },
  {
   "cell_type": "code",
   "execution_count": 29,
   "metadata": {},
   "outputs": [
    {
     "name": "stdout",
     "output_type": "stream",
     "text": [
      "Training linear regressor\n",
      "RMSE are:\n",
      "Preriods 0: training rmse ->164.66, validation error -> 167.86 \n",
      "Preriods 1: training rmse ->126.08, validation error -> 128.59 \n",
      "Preriods 2: training rmse ->116.66, validation error -> 118.36 \n",
      "Preriods 3: training rmse ->116.04, validation error -> 117.36 \n",
      "Preriods 4: training rmse ->115.35, validation error -> 116.87 \n",
      "Preriods 5: training rmse ->114.86, validation error -> 116.34 \n",
      "Preriods 6: training rmse ->114.20, validation error -> 115.66 \n",
      "Preriods 7: training rmse ->114.09, validation error -> 115.84 \n",
      "Preriods 8: training rmse ->113.16, validation error -> 114.78 \n",
      "Preriods 9: training rmse ->112.64, validation error -> 114.14 \n"
     ]
    },
    {
     "data": {
      "image/png": "[encoded data removed]",
      "text/plain": [
       "<matplotlib.figure.Figure at 0x1a273fe518>"
      ]
     },
     "metadata": {},
     "output_type": "display_data"
    }
   ],
   "source": [
    "minimal_features = ['latitude','median_income']\n",
    "minimal_training_set = training_examples[minimal_features]\n",
    "minimal_validation_set = validation_examples[minimal_features]\n",
    "_ = train_model(0.01, 500, 5, minimal_training_set, training_targets, minimal_validation_set, validation_targets)"
   ]
  },
  {
   "cell_type": "markdown",
   "metadata": {},
   "source": [
    "## make better use of latitude"
   ]
  },
  {
   "cell_type": "code",
   "execution_count": 30,
   "metadata": {},
   "outputs": [
    {
     "data": {
      "text/plain": [
       "<matplotlib.collections.PathCollection at 0x1a27465978>"
      ]
     },
     "execution_count": 30,
     "metadata": {},
     "output_type": "execute_result"
    },
    {
     "data": {
      "image/png": "[encoded data removed]",
      "text/plain": [
       "<matplotlib.figure.Figure at 0x1a1fda0c18>"
      ]
     },
     "metadata": {},
     "output_type": "display_data"
    }
   ],
   "source": [
    "# plot the latitude with median house value\n",
    "plt.scatter(training_examples['latitude'], training_targets['median_house_value'])"
   ]
  },
  {
   "cell_type": "markdown",
   "metadata": {},
   "source": [
    "There are no clear linear relationship betweeen latitude and median house value, instead there are 2 peaks(representing San Francisco and LA)"
   ]
  },
  {
   "cell_type": "code",
   "execution_count": 37,
   "metadata": {},
   "outputs": [],
   "source": [
    "# add two feature distance from San Francisco and Distance from Los Angeles\n",
    "sys_ts = training_examples.copy()\n",
    "sys_ts['d2LA'] = np.abs(sys_ts['latitude']-34)\n",
    "sys_ts['d2SF'] = np.abs(sys_ts['latitude']-38)\n",
    "sys_ts = sys_ts[['d2LA', 'd2SF', 'median_income']]\n",
    "sys_vs = validation_examples.copy()\n",
    "sys_vs['d2LA'] = np.abs(sys_vs['latitude']-34)\n",
    "sys_vs['d2SF'] = np.abs(sys_vs['latitude']-38)\n",
    "sys_vs = sys_vs[['d2LA', 'd2SF', 'median_income']]"
   ]
  },
  {
   "cell_type": "code",
   "execution_count": 39,
   "metadata": {},
   "outputs": [
    {
     "name": "stdout",
     "output_type": "stream",
     "text": [
      "Training linear regressor\n",
      "RMSE are:\n",
      "Preriods 0: training rmse ->177.90, validation error -> 181.11 \n",
      "Preriods 1: training rmse ->126.56, validation error -> 129.66 \n",
      "Preriods 2: training rmse ->96.08, validation error -> 99.02 \n",
      "Preriods 3: training rmse ->88.87, validation error -> 91.66 \n",
      "Preriods 4: training rmse ->87.22, validation error -> 89.97 \n",
      "Preriods 5: training rmse ->86.59, validation error -> 89.30 \n",
      "Preriods 6: training rmse ->85.82, validation error -> 88.60 \n",
      "Preriods 7: training rmse ->85.27, validation error -> 87.99 \n",
      "Preriods 8: training rmse ->84.75, validation error -> 87.58 \n",
      "Preriods 9: training rmse ->84.46, validation error -> 87.34 \n"
     ]
    },
    {
     "data": {
      "image/png": "[encoded data removed]",
      "text/plain": [
       "<matplotlib.figure.Figure at 0x1c2cd65438>"
      ]
     },
     "metadata": {},
     "output_type": "display_data"
    }
   ],
   "source": [
    "_ = train_model(0.05, 500, 5, sys_ts, training_targets, sys_vs, validation_targets)"
   ]
  },
  {
   "cell_type": "markdown",
   "metadata": {},
   "source": [
    "Using the two distances instead of directly using latitude reduces RMSE"
   ]
  },
  {
   "cell_type": "markdown",
   "metadata": {},
   "source": [
    "More generally, we can created new features for different bins"
   ]
  },
  {
   "cell_type": "code",
   "execution_count": 56,
   "metadata": {},
   "outputs": [],
   "source": [
    "# divide the latitudes into different bins and creates features for each bin\n",
    "def create_bins(df, feature_scaling = False, mu = None, std = None):\n",
    "    select_df = pd.DataFrame()\n",
    "    Latitude_range = zip(range(32, 44), range(33, 45))\n",
    "    for bs in Latitude_range:\n",
    "        select_df['Latitude_%d_to_%d' %tuple(bs)] = df['latitude'].apply(lambda x: 1 if x >= bs[0] and x < bs[1] else 0)\n",
    "    if feature_scaling:\n",
    "        if mu ==  std == None:\n",
    "            mu = df['median_income'].mean()\n",
    "            std = df['median_income'].std()\n",
    "        select_df['median_income'] = (df['median_income']-mu)/std   \n",
    "        return select_df, mu, std\n",
    "    else:\n",
    "        select_df['median_income'] = df['median_income']\n",
    "        return select_df"
   ]
  },
  {
   "cell_type": "code",
   "execution_count": 52,
   "metadata": {},
   "outputs": [
    {
     "name": "stdout",
     "output_type": "stream",
     "text": [
      "Training linear regressor\n",
      "RMSE are:\n",
      "Preriods 0: training rmse ->186.18, validation error -> 189.19 \n",
      "Preriods 1: training rmse ->139.37, validation error -> 142.18 \n",
      "Preriods 2: training rmse ->101.21, validation error -> 104.15 \n",
      "Preriods 3: training rmse ->86.36, validation error -> 89.54 \n",
      "Preriods 4: training rmse ->84.00, validation error -> 87.26 \n",
      "Preriods 5: training rmse ->83.34, validation error -> 86.62 \n",
      "Preriods 6: training rmse ->82.90, validation error -> 86.23 \n",
      "Preriods 7: training rmse ->82.90, validation error -> 86.21 \n",
      "Preriods 8: training rmse ->82.59, validation error -> 85.92 \n",
      "Preriods 9: training rmse ->82.44, validation error -> 85.77 \n"
     ]
    },
    {
     "data": {
      "image/png": "[encoded data removed]",
      "text/plain": [
       "<matplotlib.figure.Figure at 0x1a29551f60>"
      ]
     },
     "metadata": {},
     "output_type": "display_data"
    }
   ],
   "source": [
    "bins_ts = create_bins(training_examples)\n",
    "bins_vs = create_bins(validation_examples)\n",
    "_ = train_model(0.05, 500, 5, bins_ts, training_targets, bins_vs, validation_targets)"
   ]
  },
  {
   "cell_type": "markdown",
   "metadata": {},
   "source": [
    "This one has slightly better performance than just use the distances between big cities"
   ]
  },
  {
   "cell_type": "code",
   "execution_count": 64,
   "metadata": {},
   "outputs": [
    {
     "name": "stdout",
     "output_type": "stream",
     "text": [
      "Training linear regressor\n",
      "RMSE are:\n",
      "Preriods 0: training rmse ->135.33, validation error -> 138.09 \n",
      "Preriods 1: training rmse ->86.38, validation error -> 89.07 \n",
      "Preriods 2: training rmse ->78.94, validation error -> 81.90 \n",
      "Preriods 3: training rmse ->78.68, validation error -> 81.68 \n",
      "Preriods 4: training rmse ->78.99, validation error -> 81.83 \n",
      "Preriods 5: training rmse ->79.26, validation error -> 82.47 \n",
      "Preriods 6: training rmse ->78.60, validation error -> 81.70 \n",
      "Preriods 7: training rmse ->78.23, validation error -> 81.06 \n",
      "Preriods 8: training rmse ->78.52, validation error -> 81.33 \n",
      "Preriods 9: training rmse ->78.73, validation error -> 81.64 \n"
     ]
    },
    {
     "data": {
      "image/png": "[encoded data removed]",
      "text/plain": [
       "<matplotlib.figure.Figure at 0x1c2dc8afd0>"
      ]
     },
     "metadata": {},
     "output_type": "display_data"
    }
   ],
   "source": [
    "# This time use feature scaling\n",
    "bins_ts, mu, std = create_bins(training_examples, feature_scaling = True)\n",
    "bins_vs, _ , _ = create_bins(validation_examples, feature_scaling = True, mu = mu, std = std)\n",
    "_ = train_model(0.5, 500, 5, bins_ts, training_targets, bins_vs, validation_targets)"
   ]
  },
  {
   "cell_type": "markdown",
   "metadata": {},
   "source": [
    "Feature scaling will also decrease the RMSE slightly, and makes the convegence more fast"
   ]
  },
  {
   "cell_type": "code",
   "execution_count": null,
   "metadata": {},
   "outputs": [],
   "source": []
  }
 ],
 "metadata": {
  "kernelspec": {
   "display_name": "Python 3",
   "language": "python",
   "name": "python3"
  },
  "language_info": {
   "codemirror_mode": {
    "name": "ipython",
    "version": 3
   },
   "file_extension": ".py",
   "mimetype": "text/x-python",
   "name": "python",
   "nbconvert_exporter": "python",
   "pygments_lexer": "ipython3",
   "version": "3.6.4"
  }
 },
 "nbformat": 4,
 "nbformat_minor": 2
}
