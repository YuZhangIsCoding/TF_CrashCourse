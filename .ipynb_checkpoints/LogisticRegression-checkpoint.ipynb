{
 "cells": [
  {
   "cell_type": "code",
   "execution_count": 1,
   "metadata": {},
   "outputs": [],
   "source": [
    "import warnings\n",
    "warnings.simplefilter(action='ignore', category=FutureWarning)\n",
    "import math\n",
    "from IPython import display\n",
    "from matplotlib import cm\n",
    "from matplotlib import gridspec\n",
    "from matplotlib import pyplot as plt\n",
    "import numpy as np\n",
    "import pandas as pd\n",
    "from sklearn import metrics\n",
    "import tensorflow as tf\n",
    "from tensorflow.python.data import Dataset\n",
    "import seaborn as sns\n",
    "sns.set_style('darkgrid')\n",
    "\n",
    "tf.logging.set_verbosity(tf.logging.ERROR)\n",
    "\n",
    "pd.set_option('display.max_row', 10)\n",
    "pd.set_option('display.float_format', '{:.1f}'.format)"
   ]
  },
  {
   "cell_type": "code",
   "execution_count": 114,
   "metadata": {},
   "outputs": [],
   "source": [
    "def preprocess(df):\n",
    "    '''Instead of using the numeric column median_house_value as our target, we\n",
    "    now construct new binary column median_house_value_is_high, judging by if \n",
    "    the house price is higher than the 75%-ile. \n",
    "    265000 is the results of df['median_house_value'].quantile(0.75).\n",
    "    This new column will be used as our target. \n",
    "    '''\n",
    "    processed_features = df[df.columns[df.columns != 'median_house_value']]\n",
    "    processed_features['rooms_per_person'] = processed_features['total_bedrooms']/processed_features['population']\n",
    "    targets = pd.DataFrame()\n",
    "    targets['median_house_value_is_high'] = df['median_house_value'] > 265000\n",
    "    return processed_features, targets"
   ]
  },
  {
   "cell_type": "code",
   "execution_count": 115,
   "metadata": {},
   "outputs": [
    {
     "name": "stdout",
     "output_type": "stream",
     "text": [
      "training examples summary:\n"
     ]
    },
    {
     "data": {
      "text/html": [
       "<div>\n",
       "<style scoped>\n",
       "    .dataframe tbody tr th:only-of-type {\n",
       "        vertical-align: middle;\n",
       "    }\n",
       "\n",
       "    .dataframe tbody tr th {\n",
       "        vertical-align: top;\n",
       "    }\n",
       "\n",
       "    .dataframe thead th {\n",
       "        text-align: right;\n",
       "    }\n",
       "</style>\n",
       "<table border=\"1\" class=\"dataframe\">\n",
       "  <thead>\n",
       "    <tr style=\"text-align: right;\">\n",
       "      <th></th>\n",
       "      <th>longitude</th>\n",
       "      <th>latitude</th>\n",
       "      <th>housing_median_age</th>\n",
       "      <th>total_rooms</th>\n",
       "      <th>total_bedrooms</th>\n",
       "      <th>population</th>\n",
       "      <th>households</th>\n",
       "      <th>median_income</th>\n",
       "      <th>rooms_per_person</th>\n",
       "    </tr>\n",
       "  </thead>\n",
       "  <tbody>\n",
       "    <tr>\n",
       "      <th>count</th>\n",
       "      <td>12000.0</td>\n",
       "      <td>12000.0</td>\n",
       "      <td>12000.0</td>\n",
       "      <td>12000.0</td>\n",
       "      <td>12000.0</td>\n",
       "      <td>12000.0</td>\n",
       "      <td>12000.0</td>\n",
       "      <td>12000.0</td>\n",
       "      <td>12000.0</td>\n",
       "    </tr>\n",
       "    <tr>\n",
       "      <th>mean</th>\n",
       "      <td>-119.6</td>\n",
       "      <td>35.6</td>\n",
       "      <td>28.6</td>\n",
       "      <td>2638.8</td>\n",
       "      <td>538.8</td>\n",
       "      <td>1429.3</td>\n",
       "      <td>501.4</td>\n",
       "      <td>3.9</td>\n",
       "      <td>0.4</td>\n",
       "    </tr>\n",
       "    <tr>\n",
       "      <th>std</th>\n",
       "      <td>2.0</td>\n",
       "      <td>2.1</td>\n",
       "      <td>12.6</td>\n",
       "      <td>2143.8</td>\n",
       "      <td>415.8</td>\n",
       "      <td>1135.8</td>\n",
       "      <td>380.6</td>\n",
       "      <td>1.9</td>\n",
       "      <td>0.3</td>\n",
       "    </tr>\n",
       "    <tr>\n",
       "      <th>min</th>\n",
       "      <td>-124.3</td>\n",
       "      <td>32.5</td>\n",
       "      <td>1.0</td>\n",
       "      <td>8.0</td>\n",
       "      <td>1.0</td>\n",
       "      <td>9.0</td>\n",
       "      <td>1.0</td>\n",
       "      <td>0.5</td>\n",
       "      <td>0.0</td>\n",
       "    </tr>\n",
       "    <tr>\n",
       "      <th>25%</th>\n",
       "      <td>-121.8</td>\n",
       "      <td>33.9</td>\n",
       "      <td>18.0</td>\n",
       "      <td>1462.0</td>\n",
       "      <td>297.0</td>\n",
       "      <td>793.0</td>\n",
       "      <td>282.0</td>\n",
       "      <td>2.6</td>\n",
       "      <td>0.3</td>\n",
       "    </tr>\n",
       "    <tr>\n",
       "      <th>50%</th>\n",
       "      <td>-118.5</td>\n",
       "      <td>34.2</td>\n",
       "      <td>29.0</td>\n",
       "      <td>2131.5</td>\n",
       "      <td>435.0</td>\n",
       "      <td>1168.0</td>\n",
       "      <td>409.5</td>\n",
       "      <td>3.5</td>\n",
       "      <td>0.4</td>\n",
       "    </tr>\n",
       "    <tr>\n",
       "      <th>75%</th>\n",
       "      <td>-118.0</td>\n",
       "      <td>37.7</td>\n",
       "      <td>37.0</td>\n",
       "      <td>3154.2</td>\n",
       "      <td>647.0</td>\n",
       "      <td>1719.0</td>\n",
       "      <td>604.0</td>\n",
       "      <td>4.8</td>\n",
       "      <td>0.4</td>\n",
       "    </tr>\n",
       "    <tr>\n",
       "      <th>max</th>\n",
       "      <td>-114.3</td>\n",
       "      <td>42.0</td>\n",
       "      <td>52.0</td>\n",
       "      <td>32054.0</td>\n",
       "      <td>5290.0</td>\n",
       "      <td>35682.0</td>\n",
       "      <td>5050.0</td>\n",
       "      <td>15.0</td>\n",
       "      <td>14.2</td>\n",
       "    </tr>\n",
       "  </tbody>\n",
       "</table>\n",
       "</div>"
      ],
      "text/plain": [
       "       longitude  latitude  housing_median_age  total_rooms  total_bedrooms  \\\n",
       "count    12000.0   12000.0             12000.0      12000.0         12000.0   \n",
       "mean      -119.6      35.6                28.6       2638.8           538.8   \n",
       "std          2.0       2.1                12.6       2143.8           415.8   \n",
       "min       -124.3      32.5                 1.0          8.0             1.0   \n",
       "25%       -121.8      33.9                18.0       1462.0           297.0   \n",
       "50%       -118.5      34.2                29.0       2131.5           435.0   \n",
       "75%       -118.0      37.7                37.0       3154.2           647.0   \n",
       "max       -114.3      42.0                52.0      32054.0          5290.0   \n",
       "\n",
       "       population  households  median_income  rooms_per_person  \n",
       "count     12000.0     12000.0        12000.0           12000.0  \n",
       "mean       1429.3       501.4            3.9               0.4  \n",
       "std        1135.8       380.6            1.9               0.3  \n",
       "min           9.0         1.0            0.5               0.0  \n",
       "25%         793.0       282.0            2.6               0.3  \n",
       "50%        1168.0       409.5            3.5               0.4  \n",
       "75%        1719.0       604.0            4.8               0.4  \n",
       "max       35682.0      5050.0           15.0              14.2  "
      ]
     },
     "metadata": {},
     "output_type": "display_data"
    },
    {
     "name": "stdout",
     "output_type": "stream",
     "text": [
      "validation examples summary:\n"
     ]
    },
    {
     "data": {
      "text/html": [
       "<div>\n",
       "<style scoped>\n",
       "    .dataframe tbody tr th:only-of-type {\n",
       "        vertical-align: middle;\n",
       "    }\n",
       "\n",
       "    .dataframe tbody tr th {\n",
       "        vertical-align: top;\n",
       "    }\n",
       "\n",
       "    .dataframe thead th {\n",
       "        text-align: right;\n",
       "    }\n",
       "</style>\n",
       "<table border=\"1\" class=\"dataframe\">\n",
       "  <thead>\n",
       "    <tr style=\"text-align: right;\">\n",
       "      <th></th>\n",
       "      <th>longitude</th>\n",
       "      <th>latitude</th>\n",
       "      <th>housing_median_age</th>\n",
       "      <th>total_rooms</th>\n",
       "      <th>total_bedrooms</th>\n",
       "      <th>population</th>\n",
       "      <th>households</th>\n",
       "      <th>median_income</th>\n",
       "      <th>rooms_per_person</th>\n",
       "    </tr>\n",
       "  </thead>\n",
       "  <tbody>\n",
       "    <tr>\n",
       "      <th>count</th>\n",
       "      <td>5000.0</td>\n",
       "      <td>5000.0</td>\n",
       "      <td>5000.0</td>\n",
       "      <td>5000.0</td>\n",
       "      <td>5000.0</td>\n",
       "      <td>5000.0</td>\n",
       "      <td>5000.0</td>\n",
       "      <td>5000.0</td>\n",
       "      <td>5000.0</td>\n",
       "    </tr>\n",
       "    <tr>\n",
       "      <th>mean</th>\n",
       "      <td>-119.6</td>\n",
       "      <td>35.6</td>\n",
       "      <td>28.5</td>\n",
       "      <td>2655.3</td>\n",
       "      <td>540.8</td>\n",
       "      <td>1430.2</td>\n",
       "      <td>500.8</td>\n",
       "      <td>3.9</td>\n",
       "      <td>0.4</td>\n",
       "    </tr>\n",
       "    <tr>\n",
       "      <th>std</th>\n",
       "      <td>2.0</td>\n",
       "      <td>2.1</td>\n",
       "      <td>12.6</td>\n",
       "      <td>2264.6</td>\n",
       "      <td>434.8</td>\n",
       "      <td>1176.4</td>\n",
       "      <td>393.9</td>\n",
       "      <td>1.9</td>\n",
       "      <td>0.2</td>\n",
       "    </tr>\n",
       "    <tr>\n",
       "      <th>min</th>\n",
       "      <td>-124.3</td>\n",
       "      <td>32.6</td>\n",
       "      <td>1.0</td>\n",
       "      <td>2.0</td>\n",
       "      <td>2.0</td>\n",
       "      <td>3.0</td>\n",
       "      <td>2.0</td>\n",
       "      <td>0.5</td>\n",
       "      <td>0.0</td>\n",
       "    </tr>\n",
       "    <tr>\n",
       "      <th>25%</th>\n",
       "      <td>-121.8</td>\n",
       "      <td>33.9</td>\n",
       "      <td>18.0</td>\n",
       "      <td>1462.0</td>\n",
       "      <td>296.8</td>\n",
       "      <td>781.0</td>\n",
       "      <td>282.0</td>\n",
       "      <td>2.6</td>\n",
       "      <td>0.3</td>\n",
       "    </tr>\n",
       "    <tr>\n",
       "      <th>50%</th>\n",
       "      <td>-118.5</td>\n",
       "      <td>34.2</td>\n",
       "      <td>29.0</td>\n",
       "      <td>2115.5</td>\n",
       "      <td>431.0</td>\n",
       "      <td>1163.5</td>\n",
       "      <td>407.0</td>\n",
       "      <td>3.6</td>\n",
       "      <td>0.4</td>\n",
       "    </tr>\n",
       "    <tr>\n",
       "      <th>75%</th>\n",
       "      <td>-118.0</td>\n",
       "      <td>37.7</td>\n",
       "      <td>37.0</td>\n",
       "      <td>3148.0</td>\n",
       "      <td>653.0</td>\n",
       "      <td>1725.2</td>\n",
       "      <td>608.0</td>\n",
       "      <td>4.8</td>\n",
       "      <td>0.4</td>\n",
       "    </tr>\n",
       "    <tr>\n",
       "      <th>max</th>\n",
       "      <td>-114.6</td>\n",
       "      <td>41.8</td>\n",
       "      <td>52.0</td>\n",
       "      <td>37937.0</td>\n",
       "      <td>6445.0</td>\n",
       "      <td>28566.0</td>\n",
       "      <td>6082.0</td>\n",
       "      <td>15.0</td>\n",
       "      <td>7.9</td>\n",
       "    </tr>\n",
       "  </tbody>\n",
       "</table>\n",
       "</div>"
      ],
      "text/plain": [
       "       longitude  latitude  housing_median_age  total_rooms  total_bedrooms  \\\n",
       "count     5000.0    5000.0              5000.0       5000.0          5000.0   \n",
       "mean      -119.6      35.6                28.5       2655.3           540.8   \n",
       "std          2.0       2.1                12.6       2264.6           434.8   \n",
       "min       -124.3      32.6                 1.0          2.0             2.0   \n",
       "25%       -121.8      33.9                18.0       1462.0           296.8   \n",
       "50%       -118.5      34.2                29.0       2115.5           431.0   \n",
       "75%       -118.0      37.7                37.0       3148.0           653.0   \n",
       "max       -114.6      41.8                52.0      37937.0          6445.0   \n",
       "\n",
       "       population  households  median_income  rooms_per_person  \n",
       "count      5000.0      5000.0         5000.0            5000.0  \n",
       "mean       1430.2       500.8            3.9               0.4  \n",
       "std        1176.4       393.9            1.9               0.2  \n",
       "min           3.0         2.0            0.5               0.0  \n",
       "25%         781.0       282.0            2.6               0.3  \n",
       "50%        1163.5       407.0            3.6               0.4  \n",
       "75%        1725.2       608.0            4.8               0.4  \n",
       "max       28566.0      6082.0           15.0               7.9  "
      ]
     },
     "metadata": {},
     "output_type": "display_data"
    }
   ],
   "source": [
    "df = pd.read_csv(\"https://storage.googleapis.com/mledu-datasets/california_housing_train.csv\", sep=\",\")\n",
    "# randomly select training and validation examples\n",
    "df = df.reindex(np.random.permutation(df.index))\n",
    "training_examples, training_targets = preprocess(df.head(12000))\n",
    "validation_examples, validation_targets = preprocess(df.tail(5000))\n",
    "print('training examples summary:')\n",
    "display.display(training_examples.describe())\n",
    "print('validation examples summary:')\n",
    "display.display(validation_examples.describe())"
   ]
  },
  {
   "cell_type": "code",
   "execution_count": 116,
   "metadata": {},
   "outputs": [],
   "source": [
    "def construct_feature_columns(input_features):\n",
    "    return set([tf.feature_column.numeric_column(my_feature) for my_feature in input_features])"
   ]
  },
  {
   "cell_type": "code",
   "execution_count": 117,
   "metadata": {},
   "outputs": [],
   "source": [
    "def my_input_fn(features, targets = None, batch_size = 1, num_epochs = None, shuffle = True):\n",
    "    if targets is None:\n",
    "        targets = np.zeros(len(features))\n",
    "    features = {key: np.array(value) for key, value in dict(features).items()}\n",
    "    ds = Dataset.from_tensor_slices((features, targets))\n",
    "    ds = ds.batch(batch_size).repeat(num_epochs)\n",
    "    if shuffle:\n",
    "        ds = ds.shuffle(10000)\n",
    "    features, labels = ds.make_one_shot_iterator().get_next()\n",
    "    return features, labels"
   ]
  },
  {
   "cell_type": "code",
   "execution_count": 1,
   "metadata": {},
   "outputs": [],
   "source": [
    "# use FTRL Optimization Algorithm instead of gradient descent\n",
    "def train_model(learning_rate, steps, batch_size, feature_columns, \n",
    "                ts, tt, vs, vt, periods = 10):\n",
    "    '''\n",
    "    ts is the training set\n",
    "    tt is the training targets\n",
    "    vs is the validation set\n",
    "    vt is the validation targets\n",
    "    \n",
    "    Use tf.estimator.LinearClassifier as our model and metrics.log_loss\n",
    "    to evaluate the loss\n",
    "    '''\n",
    "    training_fn = lambda: my_input_fn(ts, tt['median_house_value_is_high'], batch_size = batch_size)\n",
    "    predict_fn = lambda: my_input_fn(ts, tt['median_house_value_is_high'], num_epochs = 1, shuffle = False)\n",
    "    validation_fn = lambda: my_input_fn(vs, vt['median_house_value_is_high'], num_epochs = 1, shuffle = False)\n",
    "    my_optimizer = tf.train.GradientDescentOptimizer(learning_rate = learning_rate)\n",
    "    my_optimizer = tf.contrib.estimator.clip_gradients_by_norm(my_optimizer, 5)\n",
    "    logistic_regressor = tf.estimator.LinearClassifier(feature_columns = feature_columns, optimizer = my_optimizer)\n",
    "    step_size = steps//periods\n",
    "    training_logloss = []\n",
    "    validation_logloss = []\n",
    "    print('Training logistic regressor\\nLog loss is:')\n",
    "    for i in range(periods):\n",
    "        logistic_regressor.train(input_fn = training_fn, steps = step_size)\n",
    "        t_pre = logistic_regressor.predict(input_fn = predict_fn)\n",
    "        t_pre = np.array([item['probabilities'] for item in t_pre])\n",
    "        v_pre = logistic_regressor.predict(input_fn = validation_fn)\n",
    "        v_pre = np.array([item['probabilities'] for item in v_pre])\n",
    "        training_logloss.append(metrics.log_loss(tt, t_pre))\n",
    "        validation_logloss.append(metrics.log_loss(vt, v_pre))\n",
    "        print('Preriods %d: training log loss ->%.2f, validation log loss -> %.2f ' \n",
    "              %(i, training_logloss[-1], validation_logloss[-1]))\n",
    "    plt.plot(training_logloss, label = 'training')\n",
    "    plt.plot(validation_logloss, label = 'validation')\n",
    "    plt.xlabel('Periods')\n",
    "    plt.ylabel('Log loss')\n",
    "    plt.legend()\n",
    "    return logistic_regressor"
   ]
  },
  {
   "cell_type": "code",
   "execution_count": 157,
   "metadata": {},
   "outputs": [
    {
     "name": "stdout",
     "output_type": "stream",
     "text": [
      "Training logistic regressor\n",
      "Log loss is:\n",
      "Preriods 0: training log loss ->0.77, validation log loss -> 0.77 \n",
      "Preriods 1: training log loss ->0.76, validation log loss -> 0.75 \n",
      "Preriods 2: training log loss ->0.75, validation log loss -> 0.74 \n",
      "Preriods 3: training log loss ->0.74, validation log loss -> 0.74 \n",
      "Preriods 4: training log loss ->0.74, validation log loss -> 0.73 \n",
      "Preriods 5: training log loss ->0.75, validation log loss -> 0.74 \n",
      "Preriods 6: training log loss ->0.73, validation log loss -> 0.73 \n",
      "Preriods 7: training log loss ->0.73, validation log loss -> 0.73 \n",
      "Preriods 8: training log loss ->0.73, validation log loss -> 0.72 \n",
      "Preriods 9: training log loss ->0.73, validation log loss -> 0.72 \n"
     ]
    },
    {
     "data": {
      "image/png": "[encoded data removed]",
      "text/plain": [
       "<matplotlib.figure.Figure at 0x1c4a791f28>"
      ]
     },
     "metadata": {},
     "output_type": "display_data"
    }
   ],
   "source": [
    "linear_regressor = train_model(\n",
    "    0.000005, 500, 20,\n",
    "    feature_columns = construct_feature_columns(training_examples),\n",
    "    ts = training_examples,\n",
    "    tt = training_targets,\n",
    "    vs = validation_examples,\n",
    "    vt = validation_targets)"
   ]
  },
  {
   "cell_type": "markdown",
   "metadata": {},
   "source": [
    "Use LinearClassifer.evaluate to calculate effect metrics such as accuracy and AUC"
   ]
  },
  {
   "cell_type": "code",
   "execution_count": 158,
   "metadata": {},
   "outputs": [],
   "source": [
    "evaluate_validation_input_fn = lambda: my_input_fn(validation_examples, \n",
    "                                                  validation_targets[\"median_house_value_is_high\"], \n",
    "                                                  num_epochs=1, \n",
    "                                                  shuffle=False)\n",
    "evaluation_metrics = linear_regressor.evaluate(input_fn = evaluate_validation_input_fn)"
   ]
  },
  {
   "cell_type": "code",
   "execution_count": 159,
   "metadata": {},
   "outputs": [
    {
     "name": "stdout",
     "output_type": "stream",
     "text": [
      "AUC on the validation set: 0.72\n",
      "Accuracy on the validation set: 0.76\n"
     ]
    }
   ],
   "source": [
    "print(\"AUC on the validation set: %0.2f\" % evaluation_metrics['auc'])\n",
    "print(\"Accuracy on the validation set: %0.2f\" % evaluation_metrics['accuracy'])"
   ]
  },
  {
   "cell_type": "markdown",
   "metadata": {},
   "source": [
    "Use sklearn's roc_curve to obtain the true positive and false negative"
   ]
  },
  {
   "cell_type": "code",
   "execution_count": 160,
   "metadata": {},
   "outputs": [],
   "source": [
    "predict_validation_input_fn = lambda: my_input_fn(validation_examples, num_epochs = 1, shuffle = False)\n",
    "val_prob = linear_regressor.predict(input_fn = predict_validation_input_fn)\n",
    "val_prob = np.array([item['probabilities'][1] for item in val_prob])"
   ]
  },
  {
   "cell_type": "code",
   "execution_count": 161,
   "metadata": {
    "collapsed": true
   },
   "outputs": [
    {
     "data": {
      "text/plain": [
       "<matplotlib.legend.Legend at 0x1c3d747278>"
      ]
     },
     "execution_count": 161,
     "metadata": {},
     "output_type": "execute_result"
    },
    {
     "data": {
      "image/png": "[encoded data removed]",
      "text/plain": [
       "<matplotlib.figure.Figure at 0x1c38119358>"
      ]
     },
     "metadata": {},
     "output_type": "display_data"
    }
   ],
   "source": [
    "false_positive_rate, true_positive_rate, thresholds = metrics.roc_curve(validation_targets, val_prob)\n",
    "plt.plot(false_positive_rate, true_positive_rate, label = 'Linear Regressor')\n",
    "plt.plot([0, 1], [0, 1], 'k:', label = 'Random Classifier')\n",
    "plt.xlim((0, 1))\n",
    "plt.ylim((0, 1))\n",
    "plt.legend()"
   ]
  },
  {
   "cell_type": "markdown",
   "metadata": {},
   "source": [
    "Use smaller learning rate, larger steps and larger batch size may increase both auc and accuracy"
   ]
  },
  {
   "cell_type": "code",
   "execution_count": 162,
   "metadata": {},
   "outputs": [
    {
     "name": "stdout",
     "output_type": "stream",
     "text": [
      "Training logistic regressor\n",
      "Log loss is:\n",
      "Preriods 0: training log loss ->0.72, validation log loss -> 0.72 \n",
      "Preriods 1: training log loss ->0.72, validation log loss -> 0.72 \n",
      "Preriods 2: training log loss ->0.71, validation log loss -> 0.71 \n",
      "Preriods 3: training log loss ->0.71, validation log loss -> 0.71 \n",
      "Preriods 4: training log loss ->0.71, validation log loss -> 0.70 \n",
      "Preriods 5: training log loss ->0.71, validation log loss -> 0.70 \n",
      "Preriods 6: training log loss ->0.70, validation log loss -> 0.70 \n",
      "Preriods 7: training log loss ->0.70, validation log loss -> 0.70 \n",
      "Preriods 8: training log loss ->0.70, validation log loss -> 0.70 \n",
      "Preriods 9: training log loss ->0.70, validation log loss -> 0.69 \n"
     ]
    },
    {
     "data": {
      "image/png": "[encoded data removed]",
      "text/plain": [
       "<matplotlib.figure.Figure at 0x1c3e5fec50>"
      ]
     },
     "metadata": {},
     "output_type": "display_data"
    }
   ],
   "source": [
    "linear_regressor = train_model(\n",
    "    0.000003, 5000, 200,\n",
    "    feature_columns = construct_feature_columns(training_examples),\n",
    "    ts = training_examples,\n",
    "    tt = training_targets,\n",
    "    vs = validation_examples,\n",
    "    vt = validation_targets)"
   ]
  },
  {
   "cell_type": "code",
   "execution_count": 163,
   "metadata": {},
   "outputs": [
    {
     "name": "stdout",
     "output_type": "stream",
     "text": [
      "AUC on the validation set: 0.79\n",
      "Accuracy on the validation set: 0.78\n"
     ]
    }
   ],
   "source": [
    "evaluation_metrics = linear_regressor.evaluate(input_fn = evaluate_validation_input_fn)\n",
    "print(\"AUC on the validation set: %0.2f\" % evaluation_metrics['auc'])\n",
    "print(\"Accuracy on the validation set: %0.2f\" % evaluation_metrics['accuracy'])"
   ]
  },
  {
   "cell_type": "code",
   "execution_count": null,
   "metadata": {},
   "outputs": [],
   "source": []
  }
 ],
 "metadata": {
  "kernelspec": {
   "display_name": "Python 3",
   "language": "python",
   "name": "python3"
  },
  "language_info": {
   "codemirror_mode": {
    "name": "ipython",
    "version": 3
   },
   "file_extension": ".py",
   "mimetype": "text/x-python",
   "name": "python",
   "nbconvert_exporter": "python",
   "pygments_lexer": "ipython3",
   "version": "3.6.4"
  }
 },
 "nbformat": 4,
 "nbformat_minor": 2
}
